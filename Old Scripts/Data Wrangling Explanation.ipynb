{
 "cells": [
  {
   "cell_type": "markdown",
   "metadata": {},
   "source": [
    "# Collecting and Wrangling Data"
   ]
  },
  {
   "cell_type": "markdown",
   "metadata": {},
   "source": [
    "The goal of the Overwatch League Prediction Bot is to take data directly from the Overwatch League and create predictions out of this. This data comes from the official Overwatch League API. \n",
    "\n",
    "The plugins I used included pandas(for creating a basic dataframe), and requests(to get data from the API. "
   ]
  },
  {
   "cell_type": "markdown",
   "metadata": {},
   "source": [
    "# Data Collected"
   ]
  },
  {
   "cell_type": "markdown",
   "metadata": {},
   "source": [
    "The Data I chose to collect included the following: \n",
    "-Date of Match\n",
    "-Home Team and Away Team, along with each of their respective scores during the match as well as the winner of each match\n",
    "-The Stage in which the match was played\n",
    "-Every single map, map type, and roster fielded for each map.\n",
    "\n",
    "To do this, I used the /schedule endpoint from the API (found here: https://api.overwatchleague.com/schedule). From there, I was able to get all data minus map info. To get map info, as well as roster fielded per map, I took the match id from the schedule endpoint and applied it to the /match endpoint (found here: https://api.overwatchleague.com/matches/{}). This gave me all the information I needed for my data. "
   ]
  },
  {
   "cell_type": "markdown",
   "metadata": {},
   "source": [
    "# Challenges and Outliers"
   ]
  },
  {
   "cell_type": "markdown",
   "metadata": {},
   "source": [
    "For the most part, the data is clean and usable. One thing I did was convert the name of the map played to a type, however this created some issues as some map names were not recorded in the API (specifically maps introduced after the API was created). As a result, some map types are left blank. \n",
    "\n",
    "A key issue that is part of my data is in the scenario where a match goes to 5 maps. Generally, matches are 4 maps long. However, if a team is tied after 4 maps, a 5th tiebreaker map is played. This created some issues, as most matches do not have map 5 yet some do. The general dataframe allows there to be a 5th map, but much of those colums are blanked out. This in itself may provide some interesting prediction models, as there are many classifiers that can be obtained from map 5, or lack thereof. \n",
    "\n",
    "One big outlier that I have currently filtered out of collection is playoffs. Initially, I had issues creating a data collection that would efficiently collect data on a per match basis (there would be no more checks once the game was over). With playoffs, this created some issues. For example, some games would only go to 3 maps (this meant that not enough aliases were written when appending to dataframe), and some games would go to 8 maps (too many aliases). Furthermore, including playoff performance in the general dataset might skew some results, as it is generally determined that playoff performance is much differnce than regular performance. As a result, I have temporarly ignored playoff games, and will create another data collection method that deals with playoff performance. \n",
    "\n",
    "One dataset I also ignored was player hero choice. The hero pool that a certain player can play is a big factor on if they get playtime during a game or not. It also ties in to map choice, as a certain hero might be better on a certain map. This however, required me to access another endpoint, as well as create more aliases within my dataframe. Doing this would have made the dataset convoluted, as well as increase the runtime of the program 10 fold. I will eventually create another script that does this, but in this initial data collection it has been ignored. "
   ]
  }
 ],
 "metadata": {
  "kernelspec": {
   "display_name": "Python 3",
   "language": "python",
   "name": "python3"
  },
  "language_info": {
   "codemirror_mode": {
    "name": "ipython",
    "version": 3
   },
   "file_extension": ".py",
   "mimetype": "text/x-python",
   "name": "python",
   "nbconvert_exporter": "python",
   "pygments_lexer": "ipython3",
   "version": "3.7.3"
  }
 },
 "nbformat": 4,
 "nbformat_minor": 2
}
